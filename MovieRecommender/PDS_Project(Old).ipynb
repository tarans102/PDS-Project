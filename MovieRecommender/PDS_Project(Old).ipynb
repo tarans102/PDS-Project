{
 "cells": [
  {
   "cell_type": "markdown",
   "metadata": {
    "id": "mYJV48PHf2lR"
   },
   "source": [
    "## Mounting Google Drive"
   ]
  },
  {
   "cell_type": "markdown",
   "metadata": {
    "id": "6d6XVovegEjt"
   },
   "source": [
    "## Reading the datasets"
   ]
  },
  {
   "cell_type": "code",
   "execution_count": 1,
   "metadata": {
    "id": "gZFqUevWVY3U"
   },
   "outputs": [],
   "source": [
    "import pandas as pd\n",
    "import numpy as np\n",
    "dfTMDBMovies = pd.read_csv(\"TMDB/tmdb_5000_movies.csv\")\n",
    "dfTMDBCredits = pd.read_csv(\"TMDB/tmdb_5000_credits.csv\")\n",
    "dfTMDBCredits.rename(columns={\"movie_id\":\"id\"},inplace=True)\n",
    "dfTMDB = dfTMDBMovies.merge(dfTMDBCredits,on=\"id\")\n",
    "dfTMDB.drop(\"title_y\", axis=1, inplace=True)\n",
    "dfTMDB.rename(columns={\"title_x\":\"title\"},inplace=True)"
   ]
  },
  {
   "cell_type": "markdown",
   "metadata": {
    "id": "2CQCtv7xgIBP"
   },
   "source": [
    "## Demographic recommender\n",
    "Adding a score column using IMDB's weighted rating"
   ]
  },
  {
   "cell_type": "code",
   "execution_count": null,
   "metadata": {
    "colab": {
     "base_uri": "https://localhost:8080/",
     "height": 363
    },
    "id": "XIfxBU5fY-Uc",
    "outputId": "c998eff3-867c-4b37-99c0-dfa13caca879"
   },
   "outputs": [],
   "source": [
    "meanVote = dfTMDB[\"vote_average\"].mean()\n",
    "minVotes = dfTMDB[\"vote_count\"].quantile(0.9)\n",
    "q_movies = dfTMDB.copy().loc[dfTMDB[\"vote_count\"] >= minVotes]\n",
    "\n",
    "def imdbWeightedRating(df):\n",
    "    type(df)\n",
    "    votes = df[\"vote_count\"]\n",
    "    avgRating = df[\"vote_average\"]\n",
    "    return ((votes/(votes+minVotes))*avgRating)+((minVotes/(votes+minVotes))*meanVote)\n",
    "\n",
    "q_movies[\"score\"] = q_movies.apply(imdbWeightedRating,axis=1)\n",
    "q_movies = q_movies.sort_values(\"score\",ascending=False)\n",
    "q_movies[[\"title\",\"vote_count\",\"vote_average\",\"score\"]].head(10)"
   ]
  },
  {
   "cell_type": "code",
   "execution_count": null,
   "metadata": {
    "id": "xDHXwN9NdFH1"
   },
   "outputs": [],
   "source": [
    "from sklearn.feature_extraction.text import TfidfVectorizer\n",
    "\n",
    "tfidf = TfidfVectorizer(stop_words=\"english\")\n",
    "dfTMDB[\"overview\"] = dfTMDB[\"overview\"].fillna(\"\")\n",
    "tfidfMatrix = tfidf.fit_transform(dfTMDB[\"overview\"])"
   ]
  },
  {
   "cell_type": "code",
   "execution_count": null,
   "metadata": {
    "id": "baAhMLLwoC95"
   },
   "outputs": [],
   "source": [
    "from sklearn.metrics.pairwise import linear_kernel\n",
    "import joblib \n",
    "# cosineSimilarity = linear_kernel(tfidfMatrix,tfidfMatrix)\n",
    "movieListIndexes = pd.Series(dfTMDB.index, index=dfTMDB['title']).drop_duplicates()\n",
    "# joblib.dump(cosineSimilarity, \"CosineSim1.joblib\")\n",
    "cosineSimilarity=joblib.load(\"CosineSim1.joblib\")"
   ]
  },
  {
   "cell_type": "code",
   "execution_count": null,
   "metadata": {
    "colab": {
     "base_uri": "https://localhost:8080/",
     "height": 398
    },
    "id": "WQA-Bw37pRTK",
    "outputId": "e4e74c76-c28a-4491-bd2e-d9e4f8ab912b"
   },
   "outputs": [],
   "source": [
    "def getRecommendations(title, cosineSim = cosineSimilarity):\n",
    "    index = movieListIndexes[title]\n",
    "    recommendations = list(enumerate(cosineSim[index]))\n",
    "    recommendations = sorted(recommendations, key = lambda x:x[1], reverse = True)\n",
    "    recommendations = recommendations[1:11]\n",
    "    movieIndices = [i[0] for i in recommendations]\n",
    "    return dfTMDB.iloc[movieIndices][\"title\"]\n",
    "getRecommendations('The Dark Knight Rises')"
   ]
  },
  {
   "cell_type": "code",
   "execution_count": null,
   "metadata": {
    "id": "Kq2P_yKDaVn6"
   },
   "outputs": [],
   "source": [
    "from ast import literal_eval\n",
    "\n",
    "dfOG = dfTMDB.copy()\n",
    "# dfTMDB = dfOG.copy()\n",
    "features = [\"cast\",\"crew\",\"keywords\",\"genres\"]\n",
    "for feature in features:\n",
    "    dfTMDB[feature]=dfTMDB[feature].apply(literal_eval)"
   ]
  },
  {
   "cell_type": "code",
   "execution_count": null,
   "metadata": {
    "id": "yfo3-yDFe3xt"
   },
   "outputs": [],
   "source": [
    "dfEval = dfTMDB.copy()\n",
    "# dfTMDB = dfEval.copy()\n",
    "def getDirector(x):\n",
    "    for i in x:\n",
    "        if i[\"job\"]==\"Director\":\n",
    "            return i[\"name\"]\n",
    "    return np.nan\n",
    "\n",
    "dfTMDB['director'] = dfTMDB['crew'].apply(getDirector)\n",
    "features = [\"cast\",\"keywords\",\"genres\"]\n",
    "def getList(feature):\n",
    "    if isinstance(feature, list):\n",
    "        names = [i['name'] for i in feature]\n",
    "        if len(names) > 5:\n",
    "            names = names[:5]\n",
    "        return names\n",
    "    return []\n",
    "for feature in features:\n",
    "    dfTMDB[feature]=dfTMDB[feature].apply(getList)\n"
   ]
  },
  {
   "cell_type": "code",
   "execution_count": null,
   "metadata": {
    "id": "dWtTfeCEn3FV"
   },
   "outputs": [],
   "source": [
    "def cleanData(x):\n",
    "    if isinstance(x, list):\n",
    "        return [str.lower(i.replace(\" \", \"\")) for i in x]\n",
    "    else:\n",
    "        if isinstance(x, str):\n",
    "            return str.lower(x.replace(\" \", \"\"))\n",
    "        else:\n",
    "            return ''\n",
    "\n",
    "features = [\"cast\",\"keywords\",\"director\",\"genres\"]\n",
    "for feature in features:\n",
    "    dfTMDB[feature] = dfTMDB[feature].apply(cleanData)"
   ]
  },
  {
   "cell_type": "code",
   "execution_count": null,
   "metadata": {
    "id": "cL43KCJNo4K3"
   },
   "outputs": [],
   "source": [
    "def create_soup(x):\n",
    "    return ' '.join(x['keywords']) + ' ' + ' '.join(x['cast']) + ' ' + x['director'] + ' ' + ' '.join(x['genres'])\n",
    "dfTMDB['soup'] = dfTMDB.apply(create_soup, axis=1)"
   ]
  },
  {
   "cell_type": "code",
   "execution_count": null,
   "metadata": {
    "id": "oCW4F4sBr__k"
   },
   "outputs": [],
   "source": [
    "from sklearn.feature_extraction.text import CountVectorizer\n",
    "from sklearn.metrics.pairwise import cosine_similarity\n",
    "import joblib\n",
    "\n",
    "count = CountVectorizer(stop_words='english')\n",
    "countMatrix = count.fit_transform(dfTMDB['soup'])\n",
    "# cosineSimilarity2 = cosine_similarity(countMatrix, countMatrix)\n",
    "# joblib.dump(cosineSimilarity2,\"CosineSim2.joblib\")\n",
    "\n",
    "cosineSimilarity2=joblib.load(\"CosineSim2.joblib\")\n",
    "\n",
    "dfTMDB.reset_index()\n",
    "indices = pd.Series(dfTMDB.index, index=dfTMDB['title'])"
   ]
  },
  {
   "cell_type": "code",
   "execution_count": null,
   "metadata": {
    "colab": {
     "base_uri": "https://localhost:8080/",
     "height": 398
    },
    "id": "ScmHrATus8GB",
    "outputId": "7b736e96-ee5f-49a6-8e8a-aa987cd69e96"
   },
   "outputs": [],
   "source": [
    "getRecommendations('The Godfather', cosineSimilarity2)"
   ]
  },
  {
   "cell_type": "code",
   "execution_count": 8,
   "metadata": {
    "colab": {
     "base_uri": "https://localhost:8080/"
    },
    "id": "f6ozvXbpT_D3",
    "outputId": "469ffde3-5978-496d-c37e-2f00b60d9530"
   },
   "outputs": [
    {
     "name": "stdout",
     "output_type": "stream",
     "text": [
      "[(48, 4.363708112190022), (495, 4.308767696907775), (577, 4.304889381370242), (321, 4.277609922317406), (523, 4.2732277021333624), (66, 4.253710979303136), (602, 4.244685606545067), (586, 4.236220241317096), (320, 4.225369874986146), (408, 4.213584344271131)]\n",
      "User 1: [1262, 1949, 214, 928, 951, 4995, 2069, 8456, 905, 954]\n"
     ]
    }
   ],
   "source": [
    "from surprise import Reader, Dataset, SVD\n",
    "from surprise.model_selection import cross_validate\n",
    "from collections import defaultdict\n",
    "import joblib\n",
    "\n",
    "# reader = Reader()\n",
    "# dfRatings = pd.read_csv(\"TheMovies/ratings.csv\")\n",
    "# tmdb_movie_ids = dfTMDBMovies[\"id\"].tolist()\n",
    "# filtered_ratings = dfRatings[dfRatings[\"movieId\"].isin(tmdb_movie_ids)]\n",
    "\n",
    "# data = Dataset.load_from_df(filtered_ratings[[\"userId\", \"movieId\", \"rating\"]], reader)\n",
    "# svd = SVD()\n",
    "# cross_validate(svd, data, measures=[\"RMSE\", \"MAE\"], cv=5)\n",
    "# trainset = data.build_full_trainset()\n",
    "# svd.fit(trainset)\n",
    "# trainset = joblib.load(\"trainset.joblib\")\n",
    "# svd = joblib.load('svd.joblib')\n",
    "def get_unseen_items(trainset, user_id):\n",
    "    seen_items = set([j for (j, _) in trainset.ur[user_id]])\n",
    "    all_items = set(trainset.all_items())\n",
    "    unseen_items = all_items - seen_items\n",
    "    return unseen_items\n",
    "\n",
    "\n",
    "top_n = defaultdict(list)\n",
    "user_id=0\n",
    "unseen_items = get_unseen_items(trainset, user_id)\n",
    "predictions = [(item_id, svd.predict(trainset.to_raw_uid(user_id), trainset.to_raw_iid(item_id)).est)\n",
    "                for item_id in unseen_items]\n",
    "top_n = sorted(predictions, key=lambda x: x[1], reverse=True)[:10]\n",
    "\n",
    "print(top_n)\n",
    "print(f\"User {trainset.to_raw_uid(user_id)}: {[trainset.to_raw_iid(item_id) for item_id, _ in top_n]}\")\n"
   ]
  },
  {
   "cell_type": "code",
   "execution_count": null,
   "metadata": {
    "id": "aLAqQAozUSWu"
   },
   "outputs": [],
   "source": [
    "svd.predict(2, 302, 5)"
   ]
  }
 ],
 "metadata": {
  "colab": {
   "gpuType": "T4",
   "provenance": []
  },
  "kernelspec": {
   "display_name": "Python 3",
   "name": "python3"
  },
  "language_info": {
   "codemirror_mode": {
    "name": "ipython",
    "version": 3
   },
   "file_extension": ".py",
   "mimetype": "text/x-python",
   "name": "python",
   "nbconvert_exporter": "python",
   "pygments_lexer": "ipython3",
   "version": "3.12.0"
  }
 },
 "nbformat": 4,
 "nbformat_minor": 0
}
